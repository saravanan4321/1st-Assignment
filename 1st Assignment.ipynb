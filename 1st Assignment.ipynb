{
 "cells": [
  {
   "cell_type": "markdown",
   "id": "1468cba2-de08-45dc-8aeb-19d0c6303d0d",
   "metadata": {},
   "source": [
    "### 7 Library Management\n",
    "Book=input(\"Enter the Book Name:\")\n",
    "if (Book==\"Rich Dad\"):\n",
    "    print(\"Book Name        = Rich Dad\")\n",
    "    print(\"Author           = Steve\")\n",
    "    print(\"ISBN             = EP19820\")\n",
    "    print(\"Publication Year = 2002\")\n",
    "    print(\"Available Copies = 3\")\n",
    "Further=input(\"Further:\")\n",
    "if(Further==\"Check Out\"):\n",
    "    Copies=int(input(\"Available Books:\"))\n",
    "    if(Copies>=1):\n",
    "        print(\"Book Available for checkout\")\n",
    "        print(\"Remaining books available:\", Copies-1)\n",
    "elif(Further==\"return book\"):\n",
    "    print(\"Received one and book available now:\", Copies+1)"
   ]
  },
  {
   "cell_type": "code",
   "execution_count": null,
   "id": "2935a95b-5db2-4bd1-960a-928d7788fb5c",
   "metadata": {},
   "outputs": [],
   "source": [
    "#1.\tWhat is the primary goal of Object-Oriented Programming (OOP)?\n",
    "#Robustness, Adaptability, Resusability\n",
    "\n",
    "#2.\tWhat is an object in Python?\n",
    "#String, Integer, Float etc…\n",
    "\n",
    "#3.\tWhat is a class in Python?\n",
    "#Aggregate of data fields and defines the operations\n",
    "\n",
    "#4.\tWhat are attributes and methods in a class?\n",
    "#Any variable is bound in class are attributes and any function defined in class is methods\n",
    "\n",
    "#5.\tWhat is the difference between class variables and instance variables in Python?\n",
    "#Default values can be stored in class variables, object properties can be stored in instance variables\n",
    "\n",
    "#6.\tWhat is the purpose of the self parameter in Python class methods?\n",
    "#First parameter of any function\n",
    "\n"
   ]
  },
  {
   "cell_type": "code",
   "execution_count": 38,
   "id": "82e57430-c64f-4287-9d32-f0f32b65d966",
   "metadata": {},
   "outputs": [
    {
     "name": "stdin",
     "output_type": "stream",
     "text": [
      "You Already have BOOKED tickets or do u want to RESERVE: Booked\n",
      "Enter the ticket id: A12\n"
     ]
    },
    {
     "name": "stdout",
     "output_type": "stream",
     "text": [
      "Your Ticket is =  A12\n",
      "Event Name is  = ARR Music Concert\n",
      "Event date is  = 06.11.2023\n",
      "Venue is       = ARC Ground, Chennai\n",
      "Sear Number    = LR12\n",
      "price          = Rs.500\n"
     ]
    },
    {
     "name": "stdin",
     "output_type": "stream",
     "text": [
      "Do u want to continue/cancel: Continue\n"
     ]
    },
    {
     "name": "stdout",
     "output_type": "stream",
     "text": [
      "Thanks & Enjoy the event\n"
     ]
    }
   ],
   "source": [
    "# Reservation Ticket Status\n",
    "Ticket=input(\"You Already have BOOKED tickets or do u want to RESERVE:\")\n",
    "if(Ticket==\"Booked\"):\n",
    "    ID=input(\"Enter the ticket id:\")\n",
    "    print(\"Your Ticket is = \",ID)\n",
    "    print(\"Event Name is  = ARR Music Concert\")\n",
    "    print(\"Event date is  = 06.11.2023\")\n",
    "    print(\"Venue is       = ARC Ground, Chennai\")\n",
    "    print(\"Sear Number    = LR12\")\n",
    "    print(\"price          = Rs.500\")\n",
    "    Continue=input(\"Do u want to continue/cancel:\")\n",
    "    if(Continue==\"Continue\"):\n",
    "        print(\"Thanks & Enjoy the event\")\n",
    "    elif(Continue==\"Cancel\"):\n",
    "        print(\"Your Ticket has been cancelled\")\n",
    "elif(Ticket==\"Not Booked\"):\n",
    "    print(\"Will book the ticket for you\")\n"
   ]
  },
  {
   "cell_type": "code",
   "execution_count": 39,
   "id": "05536b1a-6450-4682-a940-054de0030780",
   "metadata": {},
   "outputs": [
    {
     "name": "stdin",
     "output_type": "stream",
     "text": [
      "You Already have BOOKED tickets or do u want to RESERVE: Booked\n",
      "Enter the ticket id: A12\n"
     ]
    },
    {
     "name": "stdout",
     "output_type": "stream",
     "text": [
      "Your Ticket is =  A12\n",
      "Event Name is  = ARR Music Concert\n",
      "Event date is  = 06.11.2023\n",
      "Venue is       = ARC Ground, Chennai\n",
      "Sear Number    = LR12\n",
      "price          = Rs.500\n"
     ]
    },
    {
     "name": "stdin",
     "output_type": "stream",
     "text": [
      "Do u want to continue/cancel: Cancel\n"
     ]
    },
    {
     "name": "stdout",
     "output_type": "stream",
     "text": [
      "Your Ticket has been cancelled\n"
     ]
    }
   ],
   "source": [
    "# Reservation Ticket Status\n",
    "Ticket=input(\"You Already have BOOKED tickets or do u want to RESERVE:\")\n",
    "if(Ticket==\"Booked\"):\n",
    "    ID=input(\"Enter the ticket id:\")\n",
    "    print(\"Your Ticket is = \",ID)\n",
    "    print(\"Event Name is  = ARR Music Concert\")\n",
    "    print(\"Event date is  = 06.11.2023\")\n",
    "    print(\"Venue is       = ARC Ground, Chennai\")\n",
    "    print(\"Sear Number    = LR12\")\n",
    "    print(\"price          = Rs.500\")\n",
    "    Continue=input(\"Do u want to continue/cancel:\")\n",
    "    if(Continue==\"Continue\"):\n",
    "        print(\"Thanks & Enjoy the event\")\n",
    "    elif(Continue==\"Cancel\"):\n",
    "        print(\"Your Ticket has been cancelled\")\n",
    "elif(Ticket==\"Not Booked\"):\n",
    "    print(\"Will book the ticket for you\")\n"
   ]
  },
  {
   "cell_type": "code",
   "execution_count": 36,
   "id": "be965eb0-eaf6-4dab-b48a-7d2aa66e2463",
   "metadata": {},
   "outputs": [
    {
     "name": "stdin",
     "output_type": "stream",
     "text": [
      "You Already have BOOKED tickets or do u want to RESERVE: Not Booked\n"
     ]
    },
    {
     "name": "stdout",
     "output_type": "stream",
     "text": [
      "Will book the ticket for you\n"
     ]
    }
   ],
   "source": [
    "# Reservation Ticket Status\n",
    "Ticket=input(\"You Already have BOOKED tickets or do u want to RESERVE:\")\n",
    "if(Ticket==\"Booked\"):\n",
    "    ID=input(\"Enter the ticket id:\")\n",
    "    print(\"Your Ticket is = \",ID)\n",
    "    print(\"Event Name is  = ARR Music Concert\")\n",
    "    print(\"Event date is  = 06.11.2023\")\n",
    "    print(\"Venue is       = ARC Ground, Chennai\")\n",
    "    print(\"Sear Number    = LR12\")\n",
    "    print(\"price          = Rs.500\")\n",
    "    Continue=input(\"Do u want to continue/cancel:\")\n",
    "    if(Continue==\"Continue\"):\n",
    "        print(\"Thanks & Enjoy the event\")\n",
    "    elif(Continue==\"Cancel\"):\n",
    "        print(\"Your Ticket has been cancelled\")\n",
    "elif(Ticket==\"Not Booked\"):\n",
    "    print(\"Will book the ticket for you\")\n"
   ]
  },
  {
   "cell_type": "code",
   "execution_count": 16,
   "id": "98b378fc-7fa2-4a0d-b4cb-11beb2c7c73e",
   "metadata": {},
   "outputs": [
    {
     "name": "stdin",
     "output_type": "stream",
     "text": [
      "Please Enter the Student ID: AA1290\n"
     ]
    },
    {
     "name": "stdout",
     "output_type": "stream",
     "text": [
      "Name      :Saravanan.N\n",
      "Age       :17\n",
      "Grade     :12th Std\n",
      "Student id:AA1290\n",
      "Attendance: 150\n"
     ]
    },
    {
     "name": "stdin",
     "output_type": "stream",
     "text": [
      "Is he present: Presence\n"
     ]
    },
    {
     "name": "stdout",
     "output_type": "stream",
     "text": [
      "Present today+Total Attendance= 151\n",
      "Avg attendance: 0.4136986301369863\n"
     ]
    }
   ],
   "source": [
    "#Attendance record maintenance\n",
    "Student=input(\"Please Enter the Student ID:\")\n",
    "if(Student==\"AA1290\"):\n",
    "    Att=150\n",
    "    print(\"Name      :Saravanan.N\")\n",
    "    print(\"Age       :17\")\n",
    "    print(\"Grade     :12th Std\")\n",
    "    print(\"Student id:AA1290\")\n",
    "    print(\"Attendance:\",Att)\n",
    "    Present=input(\"Is he present:\")\n",
    "    if(Present==\"Presence\"):\n",
    "        A=Att+1\n",
    "        print(\"Present today+Total Attendance=\",A)\n",
    "        B=(A/365)\n",
    "        print(\"Avg attendance:\",B)\n",
    "    if(Present==\"Absence\"):\n",
    "        A=Att-1\n",
    "        print(\"Absent today, Total Attendance=\",A)\n",
    "        B=(A/365)\n",
    "        print(\"Avg attendance:\",B)"
   ]
  },
  {
   "cell_type": "code",
   "execution_count": 17,
   "id": "107e277e-ba8d-450d-aaa4-8a5a2c2cfe1e",
   "metadata": {},
   "outputs": [
    {
     "name": "stdin",
     "output_type": "stream",
     "text": [
      "Please Enter the Student ID: AA1290\n"
     ]
    },
    {
     "name": "stdout",
     "output_type": "stream",
     "text": [
      "Name      :Saravanan.N\n",
      "Age       :17\n",
      "Grade     :12th Std\n",
      "Student id:AA1290\n",
      "Attendance: 150\n"
     ]
    },
    {
     "name": "stdin",
     "output_type": "stream",
     "text": [
      "Is he present: Absence\n"
     ]
    },
    {
     "name": "stdout",
     "output_type": "stream",
     "text": [
      "Absent today, Total Attendance= 149\n",
      "Avg attendance: 0.40821917808219177\n"
     ]
    }
   ],
   "source": [
    "#Attendance record maintenance\n",
    "Student=input(\"Please Enter the Student ID:\")\n",
    "if(Student==\"AA1290\"):\n",
    "    Att=150\n",
    "    print(\"Name      :Saravanan.N\")\n",
    "    print(\"Age       :17\")\n",
    "    print(\"Grade     :12th Std\")\n",
    "    print(\"Student id:AA1290\")\n",
    "    print(\"Attendance:\",Att)\n",
    "    Present=input(\"Is he present:\")\n",
    "    if(Present==\"Presence\"):\n",
    "        A=Att+1\n",
    "        print(\"Present today+Total Attendance=\",A)\n",
    "        B=(A/365)\n",
    "        print(\"Avg attendance:\",B)\n",
    "    if(Present==\"Absence\"):\n",
    "        A=Att-1\n",
    "        print(\"Absent today, Total Attendance=\",A)\n",
    "        B=(A/365)\n",
    "        print(\"Avg attendance:\",B)"
   ]
  },
  {
   "cell_type": "code",
   "execution_count": null,
   "id": "3d6e6128-f530-45e1-b4d4-8a0392124053",
   "metadata": {},
   "outputs": [],
   "source": []
  }
 ],
 "metadata": {
  "kernelspec": {
   "display_name": "Python 3 (ipykernel)",
   "language": "python",
   "name": "python3"
  },
  "language_info": {
   "codemirror_mode": {
    "name": "ipython",
    "version": 3
   },
   "file_extension": ".py",
   "mimetype": "text/x-python",
   "name": "python",
   "nbconvert_exporter": "python",
   "pygments_lexer": "ipython3",
   "version": "3.10.6"
  }
 },
 "nbformat": 4,
 "nbformat_minor": 5
}
